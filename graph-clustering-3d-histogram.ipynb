{
 "cells": [
  {
   "cell_type": "code",
   "execution_count": null,
   "metadata": {
    "pycharm": {
     "is_executing": true
    }
   },
   "outputs": [],
   "source": [
    "import numpy as np\n",
    "import matplotlib.pyplot as plt\n",
    "\n",
    "# read metis output file\n",
    "with open(r'ig_communities_output.metis', 'r') as fp:\n",
    "    file = fp.readlines()\n",
    "\n",
    "# create 3-tupel for every community\n",
    "# ( number of members | size of overlap | members of community as list )\n",
    "communities = {k: [len(file[k].replace('\\n', '').split(' ')), 0, file[k].replace('\\n', '').split(' ')] for k in range(0, len(file))}\n",
    "\n",
    "#for community in data:\n",
    "#    community[0] = len(community[2])"
   ]
  },
  {
   "cell_type": "code",
   "execution_count": null,
   "outputs": [],
   "source": [
    "# find overlaps in communities\n",
    "# looking for the biggest overlap for each community\n",
    "\n",
    "numberOfOverlaps = 0\n",
    "for i in range(0, len(communities)):\n",
    "    for j in range(0, len(communities)):\n",
    "        if i != j:\n",
    "            for member in communities[i][2]:\n",
    "                if member in communities[j][2]:\n",
    "                    numberOfOverlaps += 1\n",
    "        if numberOfOverlaps > communities[i][1]:\n",
    "            communities[i][1] = numberOfOverlaps\n",
    "        numberOfOverlaps = 0"
   ],
   "metadata": {
    "collapsed": false,
    "pycharm": {
     "is_executing": true
    }
   }
  },
  {
   "cell_type": "code",
   "execution_count": null,
   "metadata": {
    "pycharm": {
     "is_executing": true
    }
   },
   "outputs": [],
   "source": []
  },
  {
   "cell_type": "code",
   "execution_count": null,
   "metadata": {
    "pycharm": {
     "is_executing": true
    }
   },
   "outputs": [],
   "source": []
  }
 ],
 "metadata": {
  "kernelspec": {
   "display_name": "Python 3 (ipykernel)",
   "language": "python",
   "name": "python3"
  },
  "language_info": {
   "codemirror_mode": {
    "name": "ipython",
    "version": 3
   },
   "file_extension": ".py",
   "mimetype": "text/x-python",
   "name": "python",
   "nbconvert_exporter": "python",
   "pygments_lexer": "ipython3",
   "version": "3.10.2"
  }
 },
 "nbformat": 4,
 "nbformat_minor": 1
}
